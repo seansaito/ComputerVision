{
 "cells": [
  {
   "cell_type": "markdown",
   "metadata": {},
   "source": [
    "# Homework 4 Fully Connected Neural Networks\n",
    "\n",
    "Neural Networks for the following problems:\n",
    "\n",
    "* XOR\n",
    "* MNIST\n",
    "* CIFAR-10"
   ]
  },
  {
   "cell_type": "code",
   "execution_count": 71,
   "metadata": {
    "collapsed": false
   },
   "outputs": [],
   "source": [
    "import numpy as np\n",
    "import matplotlib.pyplot as plt\n",
    "import matplotlib\n",
    "%matplotlib inline\n",
    "import keras # For loading datasets\n",
    "\n",
    "# Activation Functions\n",
    "\n",
    "def tanh(x):\n",
    "    return np.tanh(x)\n",
    "\n",
    "def tanh_prime(x):\n",
    "    return 1.0 - np.tanh(x)**2\n",
    "\n",
    "def sigmoid(x):\n",
    "    return 1/(1 + np.exp(-x))\n",
    "\n",
    "def sigmoid_prime(x):\n",
    "    return sigmoid(x)*(1-sigmoid(x))\n",
    "\n",
    "activation_bank = {\n",
    "    \"sigmoid\": (sigmoid, sigmoid_prime),\n",
    "    \"tanh\": (tanh, tanh_prime)\n",
    "}    "
   ]
  },
  {
   "cell_type": "code",
   "execution_count": 72,
   "metadata": {
    "collapsed": true
   },
   "outputs": [],
   "source": [
    "class NeuralNetwork:\n",
    "    \n",
    "    def __init__(self, layers, activation='tanh'):\n",
    "        \"\"\"\n",
    "        Initalizing the network\n",
    "        \n",
    "        Args:\n",
    "            layers      :    list\n",
    "                List containing the number of units in each layer\n",
    "            activation  :    string\n",
    "                Name of the activation function\n",
    "        \"\"\"\n",
    "        self.activation, self.activation_deriv = activation_bank[activation]\n",
    "\n",
    "        self.weights = []\n",
    "        for i in range(1, len(layers) - 1):\n",
    "            self.weights.append((2*np.random.random((layers[i - 1] + 1, layers[i]\n",
    "                                + 1))-1)*0.25)\n",
    "        self.weights.append((2*np.random.random((layers[i] + 1, layers[i +\n",
    "                            1]))-1)*0.25)\n",
    "\n",
    "    def fit(self, X, y, learning_rate=0.2, epochs=10000):\n",
    "        X = np.atleast_2d(X)\n",
    "        temp = np.ones([X.shape[0], X.shape[1]+1])\n",
    "        temp[:, 0:-1] = X  # adding the bias unit to the input layer\n",
    "        X = temp\n",
    "        y = np.array(y)\n",
    "        errors = []\n",
    "\n",
    "        for k in range(epochs):\n",
    "            i = np.random.randint(X.shape[0])\n",
    "            a = [X[i]]\n",
    "\n",
    "            for l in range(len(self.weights)):\n",
    "                a.append(self.activation(np.dot(a[l], self.weights[l])))\n",
    "            \n",
    "            # For plotting\n",
    "            loss = 0.5 * pow(y[i] - a[-1], 2)\n",
    "            errors.append(np.mean(loss))\n",
    "            \n",
    "            error = y[i] - a[-1]\n",
    "            deltas = [error * self.activation_deriv(a[-1])] # delta of the last layer\n",
    "\n",
    "            for l in range(len(a) - 2, 0, -1): # we need to begin at the second to last layer\n",
    "                deltas.append(deltas[-1].dot(self.weights[l].T)*self.activation_deriv(a[l]))\n",
    "            deltas.reverse()\n",
    "            for i in range(len(self.weights)):\n",
    "                layer = np.atleast_2d(a[i])\n",
    "                delta = np.atleast_2d(deltas[i])\n",
    "                self.weights[i] += learning_rate * layer.T.dot(delta)\n",
    "        \n",
    "        # Plot the loss\n",
    "        plt.xlabel(\"Epochs\")\n",
    "        plt.ylabel(\"MSE\")\n",
    "        plt.title(\"Loss\")\n",
    "        plt.plot(errors)\n",
    "    \n",
    "    def predict(self, x):\n",
    "        x = np.array(x)\n",
    "        temp = np.ones(x.shape[0]+1)\n",
    "        temp[0:-1] = x\n",
    "        a = temp\n",
    "        for l in range(0, len(self.weights)):\n",
    "            a = self.activation(np.dot(a, self.weights[l]))\n",
    "        return a"
   ]
  },
  {
   "cell_type": "markdown",
   "metadata": {},
   "source": [
    "# XOR Operation"
   ]
  },
  {
   "cell_type": "code",
   "execution_count": 73,
   "metadata": {
    "collapsed": false
   },
   "outputs": [
    {
     "data": {
      "image/png": "[encoded data removed]",
      "text/plain": [
       "<matplotlib.figure.Figure at 0x112731550>"
      ]
     },
     "metadata": {},
     "output_type": "display_data"
    }
   ],
   "source": [
    "nn = NeuralNetwork([2,2,1], 'tanh')\n",
    "X = np.array([[0, 0], [0, 1], [1, 0], [1, 1]])\n",
    "y = np.array([0, 1, 1, 0])\n",
    "nn.fit(X, y)"
   ]
  },
  {
   "cell_type": "code",
   "execution_count": 74,
   "metadata": {
    "collapsed": false
   },
   "outputs": [
    {
     "name": "stdout",
     "output_type": "stream",
     "text": [
      "([0, 0], array([-0.00361591]))\n",
      "([0, 1], array([ 0.99811069]))\n",
      "([1, 0], array([ 0.99810234]))\n",
      "([1, 1], array([-0.00757556]))\n"
     ]
    }
   ],
   "source": [
    "for i in [[0, 0], [0, 1], [1, 0], [1,1]]:\n",
    "    print(i,nn.predict(i))"
   ]
  },
  {
   "cell_type": "markdown",
   "metadata": {},
   "source": [
    "# MNIST"
   ]
  },
  {
   "cell_type": "code",
   "execution_count": 116,
   "metadata": {
    "collapsed": true
   },
   "outputs": [],
   "source": [
    "from keras.datasets import mnist\n",
    "(X_train, y_train), (X_test, y_test) = mnist.load_data()"
   ]
  },
  {
   "cell_type": "code",
   "execution_count": 117,
   "metadata": {
    "collapsed": false
   },
   "outputs": [],
   "source": [
    "# One hot\n",
    "y_train_onehot = np.zeros((y_train.shape[0], 10))\n",
    "for idx, row in enumerate(y_train):\n",
    "    y_train_onehot[idx, row] = 1.0\n",
    "\n",
    "y_test_onehot = np.zeros((y_test.shape[0], 10))\n",
    "for idx, row in enumerate(y_test):\n",
    "    y_test_onehot[idx, row] = 1.0"
   ]
  },
  {
   "cell_type": "code",
   "execution_count": 118,
   "metadata": {
    "collapsed": true
   },
   "outputs": [],
   "source": [
    "# Ravel the Xs\n",
    "X_train = np.array([row.ravel() for row in X_train])\n",
    "X_test = np.array([row.ravel() for row in X_test])"
   ]
  },
  {
   "cell_type": "code",
   "execution_count": 119,
   "metadata": {
    "collapsed": false
   },
   "outputs": [
    {
     "name": "stderr",
     "output_type": "stream",
     "text": [
      "/Users/saito/anaconda/lib/python2.7/site-packages/sklearn/utils/validation.py:420: DataConversionWarning: Data with input dtype uint8 was converted to float64 by StandardScaler.\n",
      "  warnings.warn(msg, DataConversionWarning)\n",
      "/Users/saito/anaconda/lib/python2.7/site-packages/sklearn/utils/validation.py:420: DataConversionWarning: Data with input dtype uint8 was converted to float64 by StandardScaler.\n",
      "  warnings.warn(msg, DataConversionWarning)\n",
      "/Users/saito/anaconda/lib/python2.7/site-packages/sklearn/utils/validation.py:420: DataConversionWarning: Data with input dtype uint8 was converted to float64 by StandardScaler.\n",
      "  warnings.warn(msg, DataConversionWarning)\n",
      "/Users/saito/anaconda/lib/python2.7/site-packages/sklearn/utils/validation.py:420: DataConversionWarning: Data with input dtype uint8 was converted to float64 by StandardScaler.\n",
      "  warnings.warn(msg, DataConversionWarning)\n"
     ]
    }
   ],
   "source": [
    "# Preprocessing\n",
    "from sklearn.preprocessing import StandardScaler\n",
    "sc = StandardScaler()\n",
    "\n",
    "X_train = sc.fit_transform(X_train)\n",
    "X_test = sc.fit_transform(X_test)"
   ]
  },
  {
   "cell_type": "code",
   "execution_count": 120,
   "metadata": {
    "collapsed": false
   },
   "outputs": [
    {
     "data": {
      "text/plain": [
       "(60000, 784)"
      ]
     },
     "execution_count": 120,
     "metadata": {},
     "output_type": "execute_result"
    }
   ],
   "source": [
    "X_train.shape"
   ]
  },
  {
   "cell_type": "code",
   "execution_count": 121,
   "metadata": {
    "collapsed": false
   },
   "outputs": [
    {
     "data": {
      "text/plain": [
       "(60000, 10)"
      ]
     },
     "execution_count": 121,
     "metadata": {},
     "output_type": "execute_result"
    }
   ],
   "source": [
    "y_train_onehot.shape"
   ]
  },
  {
   "cell_type": "code",
   "execution_count": 122,
   "metadata": {
    "collapsed": false
   },
   "outputs": [
    {
     "data": {
      "image/png": "[encoded data removed]",
      "text/plain": [
       "<matplotlib.figure.Figure at 0x111836c50>"
      ]
     },
     "metadata": {},
     "output_type": "display_data"
    }
   ],
   "source": [
    "nn = NeuralNetwork([784,784,784,784,10], 'sigmoid')\n",
    "X = X_train\n",
    "y = y_train_onehot\n",
    "nn.fit(X, y)"
   ]
  },
  {
   "cell_type": "code",
   "execution_count": 123,
   "metadata": {
    "collapsed": false
   },
   "outputs": [
    {
     "name": "stdout",
     "output_type": "stream",
     "text": [
      "Outputs:  [  4.02770330e-05   2.07613961e-04   2.84495948e-03   3.61462174e-03\n",
      "   3.74945943e-05   1.69922747e-03   4.76030965e-07   9.80505238e-01\n",
      "   1.81686759e-04   5.26626216e-03] \n",
      "\n",
      "Prediction:\t7\n",
      "Ground Truth:\t7\n"
     ]
    }
   ],
   "source": [
    "print \"Outputs: \", nn.predict(X_test[0]), \"\\n\"\n",
    "print \"Prediction:\\t\", np.argmax(nn.predict(X_test[0]))\n",
    "print \"Ground Truth:\\t\", y_test[0]"
   ]
  },
  {
   "cell_type": "code",
   "execution_count": 124,
   "metadata": {
    "collapsed": false
   },
   "outputs": [
    {
     "name": "stdout",
     "output_type": "stream",
     "text": [
      "Accuracy:  0.8794\n"
     ]
    }
   ],
   "source": [
    "correct = 0\n",
    "for i in range(len(X_test)):\n",
    "    if np.argmax(nn.predict(X_test[i])) == y_test[i]:\n",
    "        correct += 1\n",
    "print \"Accuracy: \", correct / float(len(X_test))"
   ]
  },
  {
   "cell_type": "markdown",
   "metadata": {},
   "source": [
    "# CIFAR"
   ]
  },
  {
   "cell_type": "code",
   "execution_count": 131,
   "metadata": {
    "collapsed": true
   },
   "outputs": [],
   "source": [
    "from keras.datasets import cifar10\n",
    "(X_train, y_train), (X_test, y_test) = cifar10.load_data()"
   ]
  },
  {
   "cell_type": "code",
   "execution_count": 132,
   "metadata": {
    "collapsed": false
   },
   "outputs": [
    {
     "data": {
      "text/plain": [
       "array([[  61.33333333,   44.66666667,   47.        , ...,  132.66666667,\n",
       "         126.33333333,  125.        ],\n",
       "       [  18.66666667,    0.        ,    8.66666667, ...,   88.66666667,\n",
       "          84.        ,   88.66666667],\n",
       "       [  23.33333333,    7.66666667,   28.        , ...,   84.        ,\n",
       "          84.66666667,   74.66666667],\n",
       "       ..., \n",
       "       [ 158.        ,  129.33333333,  128.33333333, ...,  121.        ,\n",
       "          31.33333333,   35.66666667],\n",
       "       [ 138.33333333,  112.66666667,  120.        , ...,  142.        ,\n",
       "          64.33333333,   56.66666667],\n",
       "       [ 145.66666667,  130.33333333,  136.        , ...,  180.        ,\n",
       "         117.66666667,   95.66666667]])"
      ]
     },
     "execution_count": 132,
     "metadata": {},
     "output_type": "execute_result"
    }
   ],
   "source": [
    "X_train[0].shape\n",
    "np.mean(X_train[0], axis=0).shape\n",
    "np.mean(X_train[0], axis=0)"
   ]
  },
  {
   "cell_type": "code",
   "execution_count": 133,
   "metadata": {
    "collapsed": true
   },
   "outputs": [],
   "source": [
    "# One hot\n",
    "y_train_onehot = np.zeros((y_train.shape[0], 10))\n",
    "for idx, row in enumerate(y_train):\n",
    "    y_train_onehot[idx, row] = 1.0\n",
    "\n",
    "y_test_onehot = np.zeros((y_test.shape[0], 10))\n",
    "for idx, row in enumerate(y_test):\n",
    "    y_test_onehot[idx, row] = 1.0"
   ]
  },
  {
   "cell_type": "code",
   "execution_count": 134,
   "metadata": {
    "collapsed": true
   },
   "outputs": [],
   "source": [
    "# Ravel the Xs\n",
    "X_train = np.array([np.mean(row, axis=0).ravel() for row in X_train])\n",
    "X_test = np.array([np.mean(row, axis=0).ravel() for row in X_test])"
   ]
  },
  {
   "cell_type": "code",
   "execution_count": 135,
   "metadata": {
    "collapsed": true
   },
   "outputs": [],
   "source": [
    "# Preprocessing\n",
    "from sklearn.preprocessing import StandardScaler\n",
    "sc = StandardScaler()\n",
    "\n",
    "X_train = sc.fit_transform(X_train)\n",
    "X_test = sc.fit_transform(X_test)"
   ]
  },
  {
   "cell_type": "code",
   "execution_count": 136,
   "metadata": {
    "collapsed": false
   },
   "outputs": [
    {
     "data": {
      "text/plain": [
       "(50000, 1024)"
      ]
     },
     "execution_count": 136,
     "metadata": {},
     "output_type": "execute_result"
    }
   ],
   "source": [
    "X_train.shape"
   ]
  },
  {
   "cell_type": "code",
   "execution_count": 146,
   "metadata": {
    "collapsed": false
   },
   "outputs": [
    {
     "data": {
      "image/png": "[encoded data removed]",
      "text/plain": [
       "<matplotlib.figure.Figure at 0x112727410>"
      ]
     },
     "metadata": {},
     "output_type": "display_data"
    }
   ],
   "source": [
    "nn = NeuralNetwork([1024,1024,1024,10], 'sigmoid')\n",
    "X = X_train\n",
    "y = y_train_onehot\n",
    "nn.fit(X, y)"
   ]
  },
  {
   "cell_type": "code",
   "execution_count": 147,
   "metadata": {
    "collapsed": false
   },
   "outputs": [
    {
     "name": "stdout",
     "output_type": "stream",
     "text": [
      "Outputs:  [ 0.03531129  0.00380952  0.29593325  0.10056996  0.07425419  0.02520916\n",
      "  0.08670258  0.29717746  0.02221743  0.00783339] \n",
      "\n",
      "Prediction:\t7\n",
      "Ground Truth:\t3\n"
     ]
    }
   ],
   "source": [
    "print \"Outputs: \", nn.predict(X_test[0]), \"\\n\"\n",
    "print \"Prediction:\\t\", np.argmax(nn.predict(X_test[0]))\n",
    "print \"Ground Truth:\\t\", y_test[0][0]"
   ]
  },
  {
   "cell_type": "code",
   "execution_count": 148,
   "metadata": {
    "collapsed": false
   },
   "outputs": [
    {
     "name": "stdout",
     "output_type": "stream",
     "text": [
      "Accuracy:  0.2191\n"
     ]
    }
   ],
   "source": [
    "correct = 0\n",
    "for i in range(len(X_test)):\n",
    "    if np.argmax(nn.predict(X_test[i])) == y_test[i][0]:\n",
    "        correct += 1\n",
    "print \"Accuracy: \", correct / float(len(X_test))"
   ]
  },
  {
   "cell_type": "code",
   "execution_count": null,
   "metadata": {
    "collapsed": true
   },
   "outputs": [],
   "source": []
  }
 ],
 "metadata": {
  "kernelspec": {
   "display_name": "Python 2",
   "language": "python",
   "name": "python2"
  },
  "language_info": {
   "codemirror_mode": {
    "name": "ipython",
    "version": 2
   },
   "file_extension": ".py",
   "mimetype": "text/x-python",
   "name": "python",
   "nbconvert_exporter": "python",
   "pygments_lexer": "ipython2",
   "version": "2.7.12"
  }
 },
 "nbformat": 4,
 "nbformat_minor": 0
}
